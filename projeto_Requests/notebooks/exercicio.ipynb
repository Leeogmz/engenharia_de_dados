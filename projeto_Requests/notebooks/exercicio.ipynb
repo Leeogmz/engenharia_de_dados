{
 "cells": [
  {
   "cell_type": "markdown",
   "metadata": {},
   "source": [
    "Para praticar o conteúdo aprendido no decorrer dessa aula e também aprender novos, vamos realizar um desafio prático utilizando a biblioteca Requests e a API do GitHub.\n",
    "\n",
    "Faça uma requisição GET à API do Github para obter as informações do perfil de um usuário específico. Para isso, utilize a biblioteca Requests do Python e a URL https://api.github.com/users/{username}, substituindo {username} pelo nome de usuário desejado.\n",
    "\n",
    "Com o objeto response retornado pela requisição, imprima na tela as seguintes informações sobre a requisição:\n",
    "\n",
    "status code da requisição, para analisar se foi bem sucedida ou não;\n",
    "conteúdo da requisição, para conferir se os dados de usuário vieram corretamente;\n",
    "URL da requisição feita, para garantir que a url utilizada na requisição foi a correta.\n",
    "Após conferir isso, analise novamente o conteúdo retornado pela requisição e imprima na tela apenas as seguintes informações sobre a pessoa usuária em questão:\n",
    "\n",
    "Nome\n",
    "Nome de usuário\n",
    "Número de repositórios públicos\n",
    "Data de criação da conta no GitHub"
   ]
  },
  {
   "cell_type": "markdown",
   "metadata": {},
   "source": []
  },
  {
   "cell_type": "code",
   "execution_count": 4,
   "metadata": {},
   "outputs": [],
   "source": [
    "import requests"
   ]
  },
  {
   "cell_type": "code",
   "execution_count": 11,
   "metadata": {},
   "outputs": [],
   "source": [
    "r = requests.get('https://api.github.com/users/leeogmz')"
   ]
  },
  {
   "cell_type": "code",
   "execution_count": 12,
   "metadata": {},
   "outputs": [
    {
     "data": {
      "text/plain": [
       "200"
      ]
     },
     "execution_count": 12,
     "metadata": {},
     "output_type": "execute_result"
    }
   ],
   "source": [
    "r.status_code"
   ]
  },
  {
   "cell_type": "code",
   "execution_count": 13,
   "metadata": {},
   "outputs": [
    {
     "data": {
      "text/plain": [
       "{'login': 'Leeogmz',\n",
       " 'id': 113685768,\n",
       " 'node_id': 'U_kgDOBsa1CA',\n",
       " 'avatar_url': 'https://avatars.githubusercontent.com/u/113685768?v=4',\n",
       " 'gravatar_id': '',\n",
       " 'url': 'https://api.github.com/users/Leeogmz',\n",
       " 'html_url': 'https://github.com/Leeogmz',\n",
       " 'followers_url': 'https://api.github.com/users/Leeogmz/followers',\n",
       " 'following_url': 'https://api.github.com/users/Leeogmz/following{/other_user}',\n",
       " 'gists_url': 'https://api.github.com/users/Leeogmz/gists{/gist_id}',\n",
       " 'starred_url': 'https://api.github.com/users/Leeogmz/starred{/owner}{/repo}',\n",
       " 'subscriptions_url': 'https://api.github.com/users/Leeogmz/subscriptions',\n",
       " 'organizations_url': 'https://api.github.com/users/Leeogmz/orgs',\n",
       " 'repos_url': 'https://api.github.com/users/Leeogmz/repos',\n",
       " 'events_url': 'https://api.github.com/users/Leeogmz/events{/privacy}',\n",
       " 'received_events_url': 'https://api.github.com/users/Leeogmz/received_events',\n",
       " 'type': 'User',\n",
       " 'site_admin': False,\n",
       " 'name': 'Leonardo Gomes',\n",
       " 'company': None,\n",
       " 'blog': '',\n",
       " 'location': None,\n",
       " 'email': None,\n",
       " 'hireable': None,\n",
       " 'bio': None,\n",
       " 'twitter_username': None,\n",
       " 'public_repos': 7,\n",
       " 'public_gists': 0,\n",
       " 'followers': 10,\n",
       " 'following': 10,\n",
       " 'created_at': '2022-09-16T10:34:04Z',\n",
       " 'updated_at': '2024-05-24T18:44:57Z'}"
      ]
     },
     "execution_count": 13,
     "metadata": {},
     "output_type": "execute_result"
    }
   ],
   "source": [
    "r.json()"
   ]
  },
  {
   "cell_type": "code",
   "execution_count": 14,
   "metadata": {},
   "outputs": [
    {
     "data": {
      "text/plain": [
       "'https://api.github.com/users/leeogmz'"
      ]
     },
     "execution_count": 14,
     "metadata": {},
     "output_type": "execute_result"
    }
   ],
   "source": [
    "r.url"
   ]
  },
  {
   "cell_type": "code",
   "execution_count": 18,
   "metadata": {},
   "outputs": [
    {
     "data": {
      "text/plain": [
       "'Leonardo Gomes'"
      ]
     },
     "execution_count": 18,
     "metadata": {},
     "output_type": "execute_result"
    }
   ],
   "source": [
    "r.json()['name']"
   ]
  },
  {
   "cell_type": "code",
   "execution_count": 19,
   "metadata": {},
   "outputs": [
    {
     "data": {
      "text/plain": [
       "'Leeogmz'"
      ]
     },
     "execution_count": 19,
     "metadata": {},
     "output_type": "execute_result"
    }
   ],
   "source": [
    "r.json()['login']"
   ]
  },
  {
   "cell_type": "code",
   "execution_count": 20,
   "metadata": {},
   "outputs": [
    {
     "data": {
      "text/plain": [
       "'2022-09-16T10:34:04Z'"
      ]
     },
     "execution_count": 20,
     "metadata": {},
     "output_type": "execute_result"
    }
   ],
   "source": [
    "r.json()['created_at']"
   ]
  },
  {
   "cell_type": "code",
   "execution_count": 21,
   "metadata": {},
   "outputs": [
    {
     "data": {
      "text/plain": [
       "7"
      ]
     },
     "execution_count": 21,
     "metadata": {},
     "output_type": "execute_result"
    }
   ],
   "source": [
    "r.json()['public_repos']"
   ]
  },
  {
   "cell_type": "code",
   "execution_count": null,
   "metadata": {},
   "outputs": [],
   "source": []
  }
 ],
 "metadata": {
  "kernelspec": {
   "display_name": ".venv",
   "language": "python",
   "name": "python3"
  },
  "language_info": {
   "codemirror_mode": {
    "name": "ipython",
    "version": 3
   },
   "file_extension": ".py",
   "mimetype": "text/x-python",
   "name": "python",
   "nbconvert_exporter": "python",
   "pygments_lexer": "ipython3",
   "version": "3.10.12"
  }
 },
 "nbformat": 4,
 "nbformat_minor": 2
}
